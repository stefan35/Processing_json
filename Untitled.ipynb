{
 "cells": [
  {
   "cell_type": "code",
   "execution_count": 117,
   "metadata": {},
   "outputs": [],
   "source": [
    "from elasticsearch import Elasticsearch\n",
    "from elasticsearch import helpers\n",
    "from elasticsearch_dsl import Search\n",
    "import requests, json\n",
    "import elasticsearch\n",
    "from elasticsearch.helpers import scan\n",
    "#es.indices.delete(index='person')\n",
    "#es.delete_by_query(index='person', body={\"query\": {\"match_all\": {}}})"
   ]
  },
  {
   "cell_type": "code",
   "execution_count": 6,
   "metadata": {},
   "outputs": [],
   "source": [
    "#res = requests.get('http://localhost:9200')\n",
    "es = Elasticsearch([{'host': 'localhost', 'port': 9200}], timeout=30, max_retries=10, retry_on_timeout=True)"
   ]
  },
  {
   "cell_type": "code",
   "execution_count": 3,
   "metadata": {},
   "outputs": [],
   "source": [
    "#with open('output.json', encoding='utf-8') as fh:\n",
    "#    data = json.load(fh)\n",
    "\n",
    "data = []\n",
    "with open('person.json', encoding='utf-8') as f:\n",
    "    for line in f:\n",
    "        if \"-00\" not in line:\n",
    "            data.append(json.loads(line[:-2]))"
   ]
  },
  {
   "cell_type": "code",
   "execution_count": 119,
   "metadata": {},
   "outputs": [
    {
     "data": {
      "text/plain": [
       "1259847"
      ]
     },
     "execution_count": 119,
     "metadata": {},
     "output_type": "execute_result"
    }
   ],
   "source": [
    "len(data)"
   ]
  },
  {
   "cell_type": "code",
   "execution_count": 120,
   "metadata": {},
   "outputs": [
    {
     "data": {
      "text/plain": [
       "(1259847, [])"
      ]
     },
     "execution_count": 120,
     "metadata": {},
     "output_type": "execute_result"
    }
   ],
   "source": [
    "helpers.bulk(es, data, index='person')\n",
    "#res = helpers.bulk(es, data, index = \"person\")"
   ]
  },
  {
   "cell_type": "code",
   "execution_count": 121,
   "metadata": {},
   "outputs": [],
   "source": [
    "#cisla vracia dobre, neda sa iterovat nad vratenymi\n",
    "g_m = es.search(index='person', scroll=\"5m\", body={ \"query\": {\"match\": {'gender':'Man'}}})\n",
    "g_w = es.search(index='person', scroll=\"5m\", body={ \"query\": {\"match\": {'gender':'Woman'}}})\n",
    "g_o = es.search(index='person', scroll=\"5m\", body={ \"query\": {\"match\": {'gender':\"Other-Gendered Person\"}}})\n",
    "g_n = es.search(index='person', scroll=\"5m\", body={ \"query\": {\"match\": {'gender':\"None\"}}})\n",
    "#{'query': {'match': {'calories': '102'}}}"
   ]
  },
  {
   "cell_type": "code",
   "execution_count": 122,
   "metadata": {},
   "outputs": [],
   "source": [
    "g_m_c = g_m['hits']['total']['value']\n",
    "g_w_c = g_w['hits']['total']['value']\n",
    "g_o_c = g_o['hits']['total']['value']\n",
    "g_n_c = g_n['hits']['total']['value']"
   ]
  },
  {
   "cell_type": "code",
   "execution_count": 123,
   "metadata": {},
   "outputs": [
    {
     "data": {
      "text/plain": [
       "938406"
      ]
     },
     "execution_count": 123,
     "metadata": {},
     "output_type": "execute_result"
    }
   ],
   "source": [
    "g_m_c"
   ]
  },
  {
   "cell_type": "code",
   "execution_count": 124,
   "metadata": {},
   "outputs": [
    {
     "data": {
      "text/plain": [
       "207824"
      ]
     },
     "execution_count": 124,
     "metadata": {},
     "output_type": "execute_result"
    }
   ],
   "source": [
    "g_w_c"
   ]
  },
  {
   "cell_type": "code",
   "execution_count": 125,
   "metadata": {},
   "outputs": [
    {
     "data": {
      "text/plain": [
       "123"
      ]
     },
     "execution_count": 125,
     "metadata": {},
     "output_type": "execute_result"
    }
   ],
   "source": [
    "g_o_c"
   ]
  },
  {
   "cell_type": "code",
   "execution_count": 126,
   "metadata": {},
   "outputs": [
    {
     "data": {
      "text/plain": [
       "113494"
      ]
     },
     "execution_count": 126,
     "metadata": {},
     "output_type": "execute_result"
    }
   ],
   "source": [
    "g_n_c"
   ]
  },
  {
   "cell_type": "code",
   "execution_count": 103,
   "metadata": {},
   "outputs": [],
   "source": [
    "a = elasticsearch.helpers.scan(es,  query={\"query\": {\"match\": {'gender':'Man'}}}, index=\"person\")"
   ]
  },
  {
   "cell_type": "code",
   "execution_count": null,
   "metadata": {},
   "outputs": [],
   "source": [
    "#for i in a:\n",
    "    #print(i)"
   ]
  },
  {
   "cell_type": "code",
   "execution_count": 139,
   "metadata": {},
   "outputs": [],
   "source": [
    "#for hit in scan(es, index=\"example_index\", query={ \"query\": {\"match\": {'gender':'Man'}}}):\n",
    "#    print(hit[\"_source\"][\"name\"])"
   ]
  },
  {
   "cell_type": "code",
   "execution_count": null,
   "metadata": {},
   "outputs": [],
   "source": [
    "aaa = es.search(index='person', scroll=\"5m\", body={ \"query\": {\"range\": {\"date_of_birth\" : {\n",
    "        \"lt\": 1790\n",
    "      }}}})\n",
    "#str_19 = es.search(index='person', scroll=\"5m\", body={ \"query\": {\"range\": {\"date_of_birth\" : {\n",
    "#        \"gt\": 1890,\n",
    "#        \"lt\": 1990\n",
    "#      }}}})\n",
    "str_18 = es.search(index='person', scroll=\"5m\", body={ \"query\": {\"range\": {\"date_of_birth\" : {\n",
    "        \"gt\": 1790,\n",
    "        \"lt\": 2020\n",
    "      }}}})\n",
    "#str_20 = es.search(index='person', scroll=\"5m\", body={ \"query\": {\"range\": {\"date_of_birth\" : {\n",
    "#        \"gt\": 1990\n",
    "#      }}}})"
   ]
  },
  {
   "cell_type": "code",
   "execution_count": 95,
   "metadata": {},
   "outputs": [],
   "source": [
    "#for hit in res['hits']['hits']:\n",
    "#    if len(hit[\"_source\"]) > 5:\n",
    "#        print(\"asd\")\n",
    "#    print(hit[\"_source\"])"
   ]
  },
  {
   "cell_type": "code",
   "execution_count": 92,
   "metadata": {},
   "outputs": [],
   "source": [
    "#for hit in res['hits']['hits']:\n",
    "#    print(hit[\"_source\"])"
   ]
  },
  {
   "cell_type": "code",
   "execution_count": 96,
   "metadata": {},
   "outputs": [],
   "source": [
    "#es.search(body={\"query\": {\"match_all\": {}}}, index = 'example_index')\n",
    "#es.indices.get_mapping(index = 'example_index')\n",
    "#res = es.search(index=\"example_index\", body={\"query\": {\"match_all\": {}}})\n",
    "#print(\"Got %d Hits:\" % res['hits']['total']['value'])\n",
    "\n",
    "    \n",
    "#    f = open('a.json', encoding='utf-8')\n",
    "#docket_content = f.read()\n",
    "#es.index(index='myindex', ignore=400, doc_type='docket', id=1, body=json.loads(docket_content))"
   ]
  },
  {
   "cell_type": "code",
   "execution_count": 238,
   "metadata": {},
   "outputs": [],
   "source": [
    "#from datetime import datetime\n",
    "#from elasticsearch import Elasticsearch\n",
    "#es = Elasticsearch()\n",
    "\n",
    "#doc = {\n",
    "#    'author': 'kimchy',\n",
    "#    'text': 'Elasticsearch: cool. bonsai cool.',\n",
    "#    'timestamp': datetime.now(),\n",
    "#}\n",
    "#res = es.index(index=\"example_index\", body=data)\n",
    "#print(res['result'])\n",
    "\n",
    "#res = es.get(index=\"test-index\", id=1)\n",
    "#print(res['_source'])\n",
    "\n",
    "#es.indices.refresh(index=\"test-index\")\n",
    "\n",
    "#res = es.search(index=\"test-index\", body={\"query\": {\"match_all\": {}}})\n",
    "#print(\"Got %d Hits:\" % res['hits']['total']['value'])\n",
    "#for hit in res['hits']['hits']:\n",
    "#    print(\"%(timestamp)s %(author)s: %(text)s\" % hit[\"_source\"])"
   ]
  },
  {
   "cell_type": "code",
   "execution_count": 91,
   "metadata": {},
   "outputs": [],
   "source": [
    "#es.indices.delete(index='example_index')"
   ]
  },
  {
   "cell_type": "code",
   "execution_count": 93,
   "metadata": {},
   "outputs": [],
   "source": [
    "#request_body = {\n",
    "#    \"settings\" : {\n",
    "#        \"number_of_shards\": 1,\n",
    "#        \"number_of_replicas\": 0\n",
    "#    },\n",
    "\n",
    "#    'mappings': {\n",
    "#            'properties': {\n",
    "#                'name': {'type': 'text'},\n",
    "#                'date_of_birth': {'type': 'text'},\n",
    "#                'date_of_death': {'type': 'text'},\n",
    "#                'alias': {'type': 'text'},\n",
    "#                'profession': {'type': 'text'},\n",
    "#                'gender': {'type': 'text'},\n",
    "#            }}\n",
    "#}\n",
    "\n",
    "#es.indices.create(index = 'example_index', body = request_body)\n",
    "#outcome = es.index(index='example_index', body=data)\n",
    "#res = es.bulk(index = 'example_index', body = data)\n",
    "#es.index(index='example_index', body=data)\n",
    "#es.index(index='myindex', ignore=400, doc_type='docket', id=1, body=data)\n",
    "#vytvorenie 262144000 max_chunk_bytes=10485760,\n",
    "#es.indices.stats(index=\"person\")\n",
    "#res = es.index(index='megacorp',doc_type='employee',id=1,body=data)\n",
    "#mazanie\n",
    "#es.delete_by_query(index='example_index', body={\"query\": {\"match_all\": {}}})"
   ]
  },
  {
   "cell_type": "code",
   "execution_count": null,
   "metadata": {},
   "outputs": [],
   "source": []
  }
 ],
 "metadata": {
  "kernelspec": {
   "display_name": "Python 3",
   "language": "python",
   "name": "python3"
  },
  "language_info": {
   "codemirror_mode": {
    "name": "ipython",
    "version": 3
   },
   "file_extension": ".py",
   "mimetype": "text/x-python",
   "name": "python",
   "nbconvert_exporter": "python",
   "pygments_lexer": "ipython3",
   "version": "3.7.3"
  }
 },
 "nbformat": 4,
 "nbformat_minor": 2
}
