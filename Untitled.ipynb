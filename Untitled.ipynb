{
 "cells": [
  {
   "cell_type": "code",
   "execution_count": 20,
   "metadata": {},
   "outputs": [],
   "source": [
    "from elasticsearch import Elasticsearch\n",
    "from elasticsearch import helpers\n",
    "import requests, json\n",
    "#es.indices.delete(index='example_index')\n",
    "#es.delete_by_query(index='example_index', body={\"query\": {\"match_all\": {}}})"
   ]
  },
  {
   "cell_type": "code",
   "execution_count": 21,
   "metadata": {},
   "outputs": [],
   "source": [
    "res = requests.get('http://localhost:9200')\n",
    "es = Elasticsearch([{'host': 'localhost', 'port': 9200}])"
   ]
  },
  {
   "cell_type": "code",
   "execution_count": 22,
   "metadata": {},
   "outputs": [],
   "source": [
    "with open('a.json', encoding='utf-8') as fh:\n",
    "    data = json.load(fh)"
   ]
  },
  {
   "cell_type": "code",
   "execution_count": 23,
   "metadata": {},
   "outputs": [],
   "source": [
    "#res = helpers.bulk(es, data, index = \"example_index\")"
   ]
  },
  {
   "cell_type": "code",
   "execution_count": 24,
   "metadata": {},
   "outputs": [
    {
     "data": {
      "text/plain": [
       "<Response [200]>"
      ]
     },
     "execution_count": 24,
     "metadata": {},
     "output_type": "execute_result"
    }
   ],
   "source": [
    "res"
   ]
  },
  {
   "cell_type": "code",
   "execution_count": 25,
   "metadata": {},
   "outputs": [],
   "source": [
    "res = es.search(index='example_index', body={\"query\": {\"match_phrase\": {'gender':'Man'}}})\n",
    "#{'query': {'match': {'calories': '102'}}}"
   ]
  },
  {
   "cell_type": "code",
   "execution_count": 26,
   "metadata": {},
   "outputs": [
    {
     "data": {
      "text/plain": [
       "7"
      ]
     },
     "execution_count": 26,
     "metadata": {},
     "output_type": "execute_result"
    }
   ],
   "source": [
    "res['hits']['total']['value']"
   ]
  },
  {
   "cell_type": "code",
   "execution_count": 28,
   "metadata": {},
   "outputs": [
    {
     "name": "stdout",
     "output_type": "stream",
     "text": [
      "{'name': 'Paul Röttger@en', 'date_of_birth': '1954', 'alias': 'None', 'profession': 'Actor', 'gender': 'Man'}\n",
      "{'name': 'Gian Luigi Rizzi@en', 'date_of_birth': '1946', 'alias': 'Gigi Rizzi@en', 'profession': 'Musician', 'gender': 'Man'}\n",
      "{'name': 'Günter Schlipper@en', 'date_of_birth': '1962-08-13', 'alias': 'None', 'profession': 'None', 'gender': 'Man'}\n",
      "{'name': 'Stefan Barucha@en', 'date_of_birth': '1977-04-03', 'alias': 'None', 'profession': 'None', 'gender': 'Man'}\n",
      "{'name': 'Dietrich Rusche@en', 'date_of_birth': '1936-09-13', 'alias': 'None', 'profession': 'None', 'gender': 'Man'}\n",
      "{'name': 'Björn Glasner@en', 'date_of_birth': '1973-05-05', 'alias': 'None', 'profession': 'None', 'gender': 'Man'}\n",
      "asd\n",
      "{'name': 'Antonio Sánchez-Barbudo@en', 'date_of_birth': '1910', 'date_of_death': '1995-08-19', 'alias': 'None', 'profession': 'None', 'gender': 'Man'}\n"
     ]
    }
   ],
   "source": [
    "#for hit in res['hits']['hits']:\n",
    "    #if len(hit[\"_source\"]) > 5:\n",
    "        #print(\"asd\")\n",
    "    #print(hit[\"_source\"])"
   ]
  },
  {
   "cell_type": "code",
   "execution_count": 313,
   "metadata": {},
   "outputs": [
    {
     "name": "stdout",
     "output_type": "stream",
     "text": [
      "Length of docs returned by search(): 10\n"
     ]
    }
   ],
   "source": [
    "print (\"Length of docs returned by search():\", len(r['hits']['hits']))"
   ]
  },
  {
   "cell_type": "code",
   "execution_count": 206,
   "metadata": {},
   "outputs": [],
   "source": [
    "res = es.index(index='megacorp',doc_type='employee',id=1,body=data)"
   ]
  },
  {
   "cell_type": "code",
   "execution_count": 314,
   "metadata": {},
   "outputs": [
    {
     "name": "stdout",
     "output_type": "stream",
     "text": [
      "Got 18 Hits:\n"
     ]
    }
   ],
   "source": [
    "res = es.search(index=\"example_index\", body={\"query\": {\"match_all\": {}}})\n",
    "print(\"Got %d Hits:\" % res['hits']['total']['value'])"
   ]
  },
  {
   "cell_type": "code",
   "execution_count": 237,
   "metadata": {},
   "outputs": [
    {
     "name": "stdout",
     "output_type": "stream",
     "text": [
      "{'name': 'Paul Röttger@en', 'date_of_birth': '1954', 'alias': 'None', 'profession': 'Actor', 'gender': 'Man'}\n",
      "{'name': 'Yukiko Makioka@en', 'date_of_birth': '1957', 'alias': 'Makioka Yukiko@en', 'profession': 'Novelist', 'gender': 'Woman'}\n",
      "{'name': 'Gian Luigi Rizzi@en', 'date_of_birth': '1946', 'alias': 'Gigi Rizzi@en', 'profession': 'Musician', 'gender': 'Man'}\n",
      "{'name': 'Günter Schlipper@en', 'date_of_birth': '1962-08-13', 'alias': 'None', 'profession': 'None', 'gender': 'Man'}\n",
      "{'name': 'Stefan Barucha@en', 'date_of_birth': '1977-04-03', 'alias': 'None', 'profession': 'None', 'gender': 'Man'}\n",
      "{'name': 'Dietrich Rusche@en', 'date_of_birth': '1936-09-13', 'alias': 'None', 'profession': 'None', 'gender': 'Man'}\n",
      "{'name': 'Julie Wiggen@en', 'date_of_birth': '1965-05-23', 'alias': 'None', 'profession': 'Actor', 'gender': 'Woman'}\n",
      "{'name': 'Björn Glasner@en', 'date_of_birth': '1973-05-05', 'alias': 'None', 'profession': 'None', 'gender': 'Man'}\n",
      "{'name': 'Antonio Sánchez-Barbudo@en', 'date_of_birth': '1910', 'date_of_death': '1995-08-19', 'alias': 'None', 'profession': 'None', 'gender': 'Man'}\n"
     ]
    }
   ],
   "source": [
    "#for hit in res['hits']['hits']:\n",
    "#    print(hit[\"_source\"])"
   ]
  },
  {
   "cell_type": "code",
   "execution_count": 93,
   "metadata": {},
   "outputs": [],
   "source": [
    "#es.search(body={\"query\": {\"match_all\": {}}}, index = 'example_index')\n",
    "#es.indices.get_mapping(index = 'example_index')\n",
    "\n",
    "\n",
    "    \n",
    "#    f = open('a.json', encoding='utf-8')\n",
    "#docket_content = f.read()\n",
    "#es.index(index='myindex', ignore=400, doc_type='docket', id=1, body=json.loads(docket_content))"
   ]
  },
  {
   "cell_type": "code",
   "execution_count": 238,
   "metadata": {},
   "outputs": [],
   "source": [
    "#from datetime import datetime\n",
    "#from elasticsearch import Elasticsearch\n",
    "#es = Elasticsearch()\n",
    "\n",
    "#doc = {\n",
    "#    'author': 'kimchy',\n",
    "#    'text': 'Elasticsearch: cool. bonsai cool.',\n",
    "#    'timestamp': datetime.now(),\n",
    "#}\n",
    "#res = es.index(index=\"example_index\", body=data)\n",
    "#print(res['result'])\n",
    "\n",
    "#res = es.get(index=\"test-index\", id=1)\n",
    "#print(res['_source'])\n",
    "\n",
    "#es.indices.refresh(index=\"test-index\")\n",
    "\n",
    "#res = es.search(index=\"test-index\", body={\"query\": {\"match_all\": {}}})\n",
    "#print(\"Got %d Hits:\" % res['hits']['total']['value'])\n",
    "#for hit in res['hits']['hits']:\n",
    "#    print(\"%(timestamp)s %(author)s: %(text)s\" % hit[\"_source\"])"
   ]
  },
  {
   "cell_type": "code",
   "execution_count": 280,
   "metadata": {},
   "outputs": [
    {
     "data": {
      "text/plain": [
       "{'acknowledged': True}"
      ]
     },
     "execution_count": 280,
     "metadata": {},
     "output_type": "execute_result"
    }
   ],
   "source": [
    "#es.indices.delete(index='example_index')"
   ]
  },
  {
   "cell_type": "code",
   "execution_count": null,
   "metadata": {},
   "outputs": [],
   "source": [
    "#request_body = {\n",
    "#    \"settings\" : {\n",
    "#        \"number_of_shards\": 1,\n",
    "#        \"number_of_replicas\": 0\n",
    "#    },\n",
    "\n",
    "#    'mappings': {\n",
    "#            'properties': {\n",
    "#                'name': {'type': 'text'},\n",
    "#                'date_of_birth': {'type': 'text'},\n",
    "#                'date_of_death': {'type': 'text'},\n",
    "#                'alias': {'type': 'text'},\n",
    "#                'profession': {'type': 'text'},\n",
    "#                'gender': {'type': 'text'},\n",
    "#            }}\n",
    "#}\n",
    "\n",
    "#es.indices.create(index = 'example_index', body = request_body)\n",
    "#outcome = es.index(index='example_index', body=data)\n",
    "#res = es.bulk(index = 'example_index', body = data)\n",
    "#es.index(index='example_index', body=data)"
   ]
  }
 ],
 "metadata": {
  "kernelspec": {
   "display_name": "Python 3",
   "language": "python",
   "name": "python3"
  },
  "language_info": {
   "codemirror_mode": {
    "name": "ipython",
    "version": 3
   },
   "file_extension": ".py",
   "mimetype": "text/x-python",
   "name": "python",
   "nbconvert_exporter": "python",
   "pygments_lexer": "ipython3",
   "version": "3.7.3"
  }
 },
 "nbformat": 4,
 "nbformat_minor": 2
}
