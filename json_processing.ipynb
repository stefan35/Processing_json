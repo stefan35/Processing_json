{
 "cells": [
  {
   "cell_type": "code",
   "execution_count": 1,
   "metadata": {},
   "outputs": [
    {
     "name": "stderr",
     "output_type": "stream",
     "text": [
      "Matplotlib is building the font cache; this may take a moment.\n"
     ]
    }
   ],
   "source": [
    "from elasticsearch import Elasticsearch\n",
    "from elasticsearch import helpers\n",
    "from elasticsearch.helpers import scan\n",
    "import requests, json\n",
    "from matplotlib import pyplot as plt \n",
    "import pandas as pd\n",
    "import numpy as np\n",
    "from collections import Counter"
   ]
  },
  {
   "cell_type": "markdown",
   "metadata": {},
   "source": [
    "## Nacitanie json"
   ]
  },
  {
   "cell_type": "code",
   "execution_count": 2,
   "metadata": {},
   "outputs": [],
   "source": [
    "data = []\n",
    "with open('person.json', encoding='utf-8') as f:\n",
    "    for line in f:\n",
    "        if \"-00\" not in line:\n",
    "            data.append(json.loads(line[:-2]))"
   ]
  },
  {
   "cell_type": "code",
   "execution_count": 12,
   "metadata": {},
   "outputs": [],
   "source": [
    "json_dataframe = pd.DataFrame(data)"
   ]
  },
  {
   "cell_type": "code",
   "execution_count": 13,
   "metadata": {},
   "outputs": [],
   "source": [
    "json_dataframe['name'] = json_dataframe['name'].str.replace('@en', '')\n",
    "json_dataframe.drop(json_dataframe.columns[[6]], axis=1, inplace=True)"
   ]
  },
  {
   "cell_type": "markdown",
   "metadata": {},
   "source": [
    "## Indexovanie"
   ]
  },
  {
   "cell_type": "code",
   "execution_count": null,
   "metadata": {},
   "outputs": [],
   "source": [
    "es = Elasticsearch([{'host': 'localhost', 'port': 9200}], timeout=30, max_retries=10, retry_on_timeout=True)"
   ]
  },
  {
   "cell_type": "code",
   "execution_count": null,
   "metadata": {},
   "outputs": [],
   "source": [
    "helpers.bulk(es, data, index='person')"
   ]
  },
  {
   "cell_type": "markdown",
   "metadata": {},
   "source": [
    "## Profesia"
   ]
  },
  {
   "cell_type": "code",
   "execution_count": 14,
   "metadata": {},
   "outputs": [],
   "source": [
    "json_profession_dataframe = json_dataframe.explode('profession')"
   ]
  },
  {
   "cell_type": "code",
   "execution_count": 47,
   "metadata": {},
   "outputs": [],
   "source": [
    "most_profession = json_profession_dataframe['profession'].value_counts()[:4].index.tolist()\n",
    "\n",
    "sum_profession = []\n",
    "sum_profession.append(json_dataframe.profession.str.count(most_profession[0]).sum())\n",
    "sum_profession.append(json_dataframe.profession.str.count(most_profession[1]).sum())\n",
    "sum_profession.append(json_dataframe.profession.str.count(most_profession[2]).sum())\n",
    "sum_profession.append(json_dataframe.profession.str.count(most_profession[3]).sum())\n",
    "\n",
    "sum_profession.sort(reverse=True)"
   ]
  },
  {
   "cell_type": "code",
   "execution_count": 48,
   "metadata": {},
   "outputs": [
    {
     "name": "stdout",
     "output_type": "stream",
     "text": [
      "1. najcastejsia profesia -  None 54.99 %\n",
      "2. najcastejsia profesia -  Actor 7.45 %\n",
      "3. najcastejsia profesia -  Writer 2.54 %\n",
      "4. najcastejsia profesia -  Politician 1.15 %\n"
     ]
    }
   ],
   "source": [
    "print(\"1. najcastejsia profesia - \", most_profession[0], round(100 * sum_profession[0]/len(json_dataframe), 2),\"%\")\n",
    "print(\"2. najcastejsia profesia - \", most_profession[1], round(100 * sum_profession[1]/len(json_dataframe), 2),\"%\")\n",
    "print(\"3. najcastejsia profesia - \", most_profession[2], round(100 * sum_profession[2]/len(json_dataframe), 2),\"%\")\n",
    "print(\"4. najcastejsia profesia - \", most_profession[3], round(100 * sum_profession[3]/len(json_dataframe), 2),\"%\")"
   ]
  },
  {
   "cell_type": "markdown",
   "metadata": {},
   "source": [
    "## Pohlavie"
   ]
  },
  {
   "cell_type": "code",
   "execution_count": 49,
   "metadata": {},
   "outputs": [],
   "source": [
    "most_gender_labels = json_dataframe['gender'].unique()\n",
    "most_gender_number = json_dataframe['gender'].value_counts()"
   ]
  },
  {
   "cell_type": "code",
   "execution_count": 51,
   "metadata": {},
   "outputs": [
    {
     "data": {
      "image/png": "[encoded data removed]",
      "text/plain": [
       "<Figure size 720x504 with 1 Axes>"
      ]
     },
     "metadata": {},
     "output_type": "display_data"
    }
   ],
   "source": [
    "labels = most_gender_labels\n",
    "number = [most_gender_number]\n",
    "fig = plt.figure(figsize =(10, 7)) \n",
    "plt.pie(np.array(number).ravel(), labels = labels, autopct='%1.2f%%', pctdistance=1.1, labeldistance=1.2) \n",
    "  \n",
    "plt.show() "
   ]
  },
  {
   "cell_type": "markdown",
   "metadata": {},
   "source": [
    "## Aliasy"
   ]
  },
  {
   "cell_type": "code",
   "execution_count": 79,
   "metadata": {},
   "outputs": [],
   "source": [
    "json_alias_dataframe = json_dataframe.explode('alias')"
   ]
  },
  {
   "cell_type": "code",
   "execution_count": 80,
   "metadata": {},
   "outputs": [],
   "source": [
    "most_alias = json_alias_dataframe['name'].value_counts()[:4].index.tolist()"
   ]
  },
  {
   "cell_type": "code",
   "execution_count": 81,
   "metadata": {},
   "outputs": [],
   "source": [
    "most_aliases = json_dataframe[json_dataframe['name'].str.contains(most_alias[0], na=False)]"
   ]
  },
  {
   "cell_type": "code",
   "execution_count": 82,
   "metadata": {},
   "outputs": [
    {
     "data": {
      "text/plain": [
       "['Joan Almirall@it',\n",
       " 'Rick Deconinck@it',\n",
       " 'Jess@en',\n",
       " 'Frarik Hollmann@en',\n",
       " 'Dan L. Simon@it',\n",
       " 'Tío Jess@en',\n",
       " 'Robert Zinnermann@es-419',\n",
       " 'Jeff Frank@it',\n",
       " 'Dennis Farnon@es-419',\n",
       " 'Jess Frank@it',\n",
       " 'James P. Johnson@en',\n",
       " 'Rosa M. Almirall@en',\n",
       " 'Terry De Corsia@en',\n",
       " 'Preston Quaid@es-419',\n",
       " 'Betty Carter@es-419',\n",
       " 'Lulu Laverne@it',\n",
       " 'Manfred Gregor@en',\n",
       " 'J.F. Manner@en',\n",
       " 'J. Franco@it',\n",
       " 'Frank Hollman@es-419',\n",
       " 'Rosa Mª Almirall@it',\n",
       " 'Dave Tough@it',\n",
       " 'A.L. Marioux@en',\n",
       " 'Clifford Brown Jr.@it',\n",
       " 'Jesus Manera@en',\n",
       " 'Lowel Richmond@es-419',\n",
       " 'Preston Quaid@en',\n",
       " 'Pablo Villa@it',\n",
       " 'David Khune@es-419',\n",
       " 'David Kühne@es-419',\n",
       " 'Jack Griffin@it',\n",
       " 'A.L. Malraux@en',\n",
       " 'Rosa Mª Almirall@es-419',\n",
       " 'Jeff Manner@en',\n",
       " 'Clifford Brown Jr.@es-419',\n",
       " 'Jess Franck@it',\n",
       " 'B.F. Johnson@es-419',\n",
       " 'Adolf M. Frank@it',\n",
       " 'Rosa Almirall@es-419',\n",
       " 'D. Khunne@it',\n",
       " 'Frank Hollmann@es-419',\n",
       " 'B.F. Johnson@it',\n",
       " 'David Khunne II@es-419',\n",
       " 'Raymond Dubois@en',\n",
       " 'Clifford Brown@en',\n",
       " 'P. Querut@es-419',\n",
       " 'Joan Vincent@en',\n",
       " 'Jack Griffin@es-419',\n",
       " 'Dennis Farnon@it',\n",
       " 'Wolfgang Frank@it',\n",
       " 'Jesús Franco Manera@pt',\n",
       " 'Chuck Evans@en',\n",
       " 'David J. Khunne@it',\n",
       " 'P. Querut@en',\n",
       " 'Jess Franco@fr',\n",
       " 'A.M. Frank@it',\n",
       " 'David Tough@en',\n",
       " 'Joan Almirall@en',\n",
       " 'David Khunne II@en',\n",
       " 'Juan G. Cabral@es-419',\n",
       " 'Jess@it',\n",
       " 'David Khune@en',\n",
       " 'Rick Deconinck@en',\n",
       " 'D. Khunne Jr.@es-419',\n",
       " 'David Kunne@it',\n",
       " 'James P. Johnson@it',\n",
       " 'Clifford Brown@es-419',\n",
       " 'Frank Hollmann@it',\n",
       " 'Lennie Hayden@en',\n",
       " 'Lulu Laverne@en',\n",
       " 'J. Franck Manera@es-419',\n",
       " 'Jeff Frank@en',\n",
       " 'D. Khunne Jr.@it',\n",
       " 'Manfred Gregor@it',\n",
       " 'J.F. Manner@it',\n",
       " 'Dave Tough@en',\n",
       " 'Wolfgang Frank@es-419',\n",
       " 'Anton Martin Frank@it',\n",
       " 'A.L. Marioux@it',\n",
       " 'Toni Falt@en',\n",
       " 'Jesús \"Jess\" Franco@es-419',\n",
       " 'Rosa Almirall@en',\n",
       " 'Robert Zimmerman@es-419',\n",
       " 'Rick Deconinck in Italy@en',\n",
       " 'Toni Falt@es-419',\n",
       " 'D. Khunn@it',\n",
       " 'Dan Simon@es-419',\n",
       " 'Dave Tough@es-419',\n",
       " 'Jess Franck@es-419',\n",
       " 'James Gardner@es-419',\n",
       " 'Clifford Brown Jr.@en',\n",
       " 'Preston Quaid@it',\n",
       " 'A.L. Mariaux@it',\n",
       " 'Jack Griffin@en',\n",
       " 'Rosa María Almirall@en',\n",
       " 'David Kuhne@en',\n",
       " 'Betty Carter@it',\n",
       " 'Jesús Franco@en',\n",
       " 'Jeff Manner@it',\n",
       " 'Joan Almirall@es-419',\n",
       " 'Jesús Manera@en',\n",
       " 'David Khunne@it',\n",
       " 'Roland Marceignac@it',\n",
       " 'Jesus Franco@nl',\n",
       " 'J. Franck Manera@it',\n",
       " 'Jesse Franco@en',\n",
       " 'Jess Franco@it',\n",
       " 'Manfred Gregor@es-419',\n",
       " 'J. Frank Manera@it',\n",
       " 'Clifford Brawn@it',\n",
       " 'D. Khunne@en',\n",
       " 'Juan G. Cabral@it',\n",
       " 'David Kühne@it',\n",
       " 'Candy Coster@en',\n",
       " 'Clifford Brown@it',\n",
       " 'James P. Johnson@es-419',\n",
       " 'Dennis Farnon@en',\n",
       " 'J.P. Johnson@it',\n",
       " 'P. Querut@it',\n",
       " 'A.M. Frank@en',\n",
       " 'David J. Khunne@en',\n",
       " 'Tío Jess@es-419',\n",
       " 'Jess Frank@es-419',\n",
       " 'Adolf M. Frank@es-419',\n",
       " 'David Khunne II@it',\n",
       " 'Lulú Laverne@it',\n",
       " 'David Khune@it',\n",
       " 'Jeff Manner@es-419',\n",
       " 'David Kunne@en',\n",
       " 'Jesus Manera@es-419',\n",
       " 'Robert Zinnermann@en',\n",
       " 'Lennie Hayden@it',\n",
       " 'Frank Hollmann@en',\n",
       " 'D. Khunne Jr.@en',\n",
       " 'Jeff Frank@es-419',\n",
       " 'Dan Simon@en',\n",
       " 'David H. Klunne@es-419',\n",
       " 'Jesus Franco Manera@it',\n",
       " 'David Khunne@es-419',\n",
       " 'Anton Martin Frank@en',\n",
       " 'Rosa Almirall@it',\n",
       " 'James Gardner@en',\n",
       " 'Toni Falt@it',\n",
       " 'James Gardner in French version@en',\n",
       " 'D. Khunn@en',\n",
       " 'A.L. Mariaux@en',\n",
       " 'J. Frank Manera@es-419',\n",
       " 'C. Plaut@en',\n",
       " 'A.L. Mariaux@es-419',\n",
       " 'Betty Carter@en',\n",
       " 'Rosa María Almirall@it',\n",
       " 'J. Franck Manera@en',\n",
       " 'Franco Manera@en',\n",
       " 'Franco Manera@es-419',\n",
       " 'Lulu Laverne@es-419',\n",
       " 'C. Plaut in English version@en',\n",
       " 'David Khunne@en',\n",
       " 'Jesse Franco@it',\n",
       " 'Lowel Richmond@it',\n",
       " 'James Lee Johnson@it',\n",
       " 'David J. Khune@it',\n",
       " 'Jesús Franco Manera@it',\n",
       " 'J. Frank Manera@en',\n",
       " 'Juan G. Cabral@en',\n",
       " 'Roland Marceignac@en',\n",
       " 'Clifford Brawn@en',\n",
       " 'David Kühne@en',\n",
       " 'Jesús Franco Manera@es-419',\n",
       " 'Anton Martin Frank@es-419',\n",
       " 'Dan L. Simon@es-419',\n",
       " 'David H. Klunne@it',\n",
       " 'Frank Hollman@en',\n",
       " 'Candy Coster@it',\n",
       " 'Cady Coster@en',\n",
       " 'J.P. Johnson@en',\n",
       " 'Terry De Corsia@es-419',\n",
       " 'James Lee Johnson@es-419',\n",
       " 'Pablo Villa@es-419',\n",
       " 'Jesse Franco@es-419',\n",
       " 'Frarik Hollmann@it',\n",
       " 'Dan L. Simon@en',\n",
       " 'David Kunne@es-419',\n",
       " 'Lulú Laverne@en',\n",
       " 'Jesús Franco Manera@de',\n",
       " 'A.L. Malraux@es-419',\n",
       " 'Raymond Dubois@it',\n",
       " 'Robert Zinnermann@it',\n",
       " 'A.M. Frank@es-419',\n",
       " 'Rosa M. Almirall@it',\n",
       " 'Terry De Corsia@it',\n",
       " 'Jess Frank@en',\n",
       " 'Lennie Hayden@es-419',\n",
       " 'Jess Franco@en',\n",
       " 'Dan Simon@it',\n",
       " 'Rosa María Almirall@es-419',\n",
       " 'Rosa Mª Almirall@en',\n",
       " 'A.L. Marioux@es-419',\n",
       " 'Jesus Franco Manera@en',\n",
       " 'J. Franco@en',\n",
       " 'Jess@es-419',\n",
       " 'David Kuhne@it',\n",
       " 'Joan Vincent@es-419',\n",
       " 'Jesus Manera@it',\n",
       " 'C. Plaut@es-419',\n",
       " 'Raymond Dubois@es-419',\n",
       " 'Jesús \"Jess\" Franco@en',\n",
       " 'Pablo Villa@en',\n",
       " 'A.L. Malraux@it',\n",
       " 'Jesus Franco@en',\n",
       " 'Adolf M. Frank@en',\n",
       " 'Franco Manera@it',\n",
       " 'David Tough@es-419',\n",
       " 'Robert Zimmerman@en',\n",
       " 'Chuck Evans@es-419',\n",
       " 'Jess Franco@es-419',\n",
       " 'Jess Franck@en',\n",
       " 'Jesús Franco Manera@es',\n",
       " 'James Lee Johnson@en',\n",
       " 'David J. Khune@en',\n",
       " 'Jesús Franco Manera@en',\n",
       " 'Candy Coster@es-419',\n",
       " 'Rick Deconinck@es-419',\n",
       " 'Lowel Richmond@en',\n",
       " 'Frank Hollman@it',\n",
       " 'D. Khunne@es-419',\n",
       " 'B.F. Johnson@en',\n",
       " 'David H. Klunne@en',\n",
       " 'David J. Khune@es-419',\n",
       " 'Frarik Hollmann@es-419',\n",
       " 'David J. Khunne@es-419',\n",
       " 'Joan Vincent@it',\n",
       " 'Franco, Jess@en',\n",
       " 'Roland Marceignac@es-419',\n",
       " 'Wolfgang Frank@en',\n",
       " 'Cady Coster@es-419',\n",
       " 'J.F. Manner@es-419',\n",
       " 'Clifford Brawn@es-419',\n",
       " 'Chuck Evans@it']"
      ]
     },
     "execution_count": 82,
     "metadata": {},
     "output_type": "execute_result"
    }
   ],
   "source": [
    "most_aliases['alias'].iloc[0]"
   ]
  },
  {
   "cell_type": "markdown",
   "metadata": {},
   "source": [
    "## Datumy"
   ]
  },
  {
   "cell_type": "code",
   "execution_count": 5,
   "metadata": {},
   "outputs": [],
   "source": [
    "g_m = es.search(index='person', scroll=\"5m\", body={ \"query\": {\"match\": {\"gender\":\"Man\"}}})\n",
    "g_w = es.search(index='person', scroll=\"5m\", body={ \"query\": {\"match\": {\"gender\":\"Woman\"}}})\n",
    "g_o = es.search(index='person', scroll=\"5m\", body={ \"query\": {\"match\": {\"gender\":\"Other-Gendered Person\"}}})\n",
    "g_n = es.search(index='person', scroll=\"5m\", body={ \"query\": {\"match\": {\"gender\":\"None\"}}})"
   ]
  },
  {
   "cell_type": "code",
   "execution_count": 6,
   "metadata": {},
   "outputs": [],
   "source": [
    "g_m_c = g_m['hits']['total']['value']\n",
    "g_w_c = g_w['hits']['total']['value']\n",
    "g_o_c = g_o['hits']['total']['value']\n",
    "g_n_c = g_n['hits']['total']['value']"
   ]
  },
  {
   "cell_type": "code",
   "execution_count": 7,
   "metadata": {},
   "outputs": [
    {
     "data": {
      "text/plain": [
       "938406"
      ]
     },
     "execution_count": 7,
     "metadata": {},
     "output_type": "execute_result"
    }
   ],
   "source": [
    "g_m_c"
   ]
  },
  {
   "cell_type": "code",
   "execution_count": null,
   "metadata": {},
   "outputs": [],
   "source": []
  }
 ],
 "metadata": {
  "kernelspec": {
   "display_name": "Python 3",
   "language": "python",
   "name": "python3"
  },
  "language_info": {
   "codemirror_mode": {
    "name": "ipython",
    "version": 3
   },
   "file_extension": ".py",
   "mimetype": "text/x-python",
   "name": "python",
   "nbconvert_exporter": "python",
   "pygments_lexer": "ipython3",
   "version": "3.7.3"
  }
 },
 "nbformat": 4,
 "nbformat_minor": 2
}
