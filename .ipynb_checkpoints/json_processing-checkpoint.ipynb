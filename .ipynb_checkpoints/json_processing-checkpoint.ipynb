{
 "cells": [
  {
   "cell_type": "code",
   "execution_count": 1,
   "metadata": {},
   "outputs": [],
   "source": [
    "from elasticsearch import Elasticsearch\n",
    "from elasticsearch import helpers\n",
    "from elasticsearch.helpers import scan\n",
    "import pandas as pd\n",
    "import numpy as np\n",
    "import requests, json\n",
    "import matplotlib.pyplot as plt\n",
    "from ipywidgets import interact"
   ]
  },
  {
   "cell_type": "markdown",
   "metadata": {},
   "source": [
    "## Načítanie json"
   ]
  },
  {
   "cell_type": "code",
   "execution_count": 2,
   "metadata": {},
   "outputs": [],
   "source": [
    "data = []\n",
    "with open('person.json', encoding='utf-8') as file:\n",
    "    for line in file:\n",
    "        if \"-00\" not in line:\n",
    "            line = line.replace('@en\",\"d', '\",\"d')\n",
    "            data.append(json.loads(line[:-2]))"
   ]
  },
  {
   "cell_type": "code",
   "execution_count": 3,
   "metadata": {},
   "outputs": [],
   "source": [
    "json_dataframe = pd.DataFrame(data)"
   ]
  },
  {
   "cell_type": "code",
   "execution_count": 4,
   "metadata": {},
   "outputs": [],
   "source": [
    "json_dataframe['name'] = json_dataframe['name'].str.replace('@en', '')\n",
    "json_dataframe.drop(json_dataframe.columns[[6]], axis=1, inplace=True)"
   ]
  },
  {
   "cell_type": "markdown",
   "metadata": {},
   "source": [
    "Náhľad dataframu"
   ]
  },
  {
   "cell_type": "code",
   "execution_count": 5,
   "metadata": {},
   "outputs": [
    {
     "data": {
      "text/html": [
       "<div>\n",
       "<style scoped>\n",
       "    .dataframe tbody tr th:only-of-type {\n",
       "        vertical-align: middle;\n",
       "    }\n",
       "\n",
       "    .dataframe tbody tr th {\n",
       "        vertical-align: top;\n",
       "    }\n",
       "\n",
       "    .dataframe thead th {\n",
       "        text-align: right;\n",
       "    }\n",
       "</style>\n",
       "<table border=\"1\" class=\"dataframe\">\n",
       "  <thead>\n",
       "    <tr style=\"text-align: right;\">\n",
       "      <th></th>\n",
       "      <th>name</th>\n",
       "      <th>date_of_birth</th>\n",
       "      <th>date_of_death</th>\n",
       "      <th>alias</th>\n",
       "      <th>profession</th>\n",
       "      <th>gender</th>\n",
       "    </tr>\n",
       "  </thead>\n",
       "  <tbody>\n",
       "    <tr>\n",
       "      <th>0</th>\n",
       "      <td>Lev Lyubetskiy</td>\n",
       "      <td>1920-04-05</td>\n",
       "      <td>2000-06-21</td>\n",
       "      <td>[Lev Grigorevich Lyubetskiy@en, L. Lyubetsky@e...</td>\n",
       "      <td>Actor</td>\n",
       "      <td>Man</td>\n",
       "    </tr>\n",
       "    <tr>\n",
       "      <th>1</th>\n",
       "      <td>Aleš Zimolka</td>\n",
       "      <td>1963</td>\n",
       "      <td>2012-05-26</td>\n",
       "      <td>None</td>\n",
       "      <td>Musician</td>\n",
       "      <td>Man</td>\n",
       "    </tr>\n",
       "    <tr>\n",
       "      <th>2</th>\n",
       "      <td>Wolfgang Lohmann</td>\n",
       "      <td>1935-05-29</td>\n",
       "      <td>NaN</td>\n",
       "      <td>None</td>\n",
       "      <td>None</td>\n",
       "      <td>Man</td>\n",
       "    </tr>\n",
       "    <tr>\n",
       "      <th>3</th>\n",
       "      <td>Marius Raichi</td>\n",
       "      <td>1909-09-13</td>\n",
       "      <td>1986-04-24</td>\n",
       "      <td>None</td>\n",
       "      <td>Cinematographer</td>\n",
       "      <td>Man</td>\n",
       "    </tr>\n",
       "    <tr>\n",
       "      <th>4</th>\n",
       "      <td>Björn Wiegers</td>\n",
       "      <td>1982-03-15</td>\n",
       "      <td>NaN</td>\n",
       "      <td>None</td>\n",
       "      <td>None</td>\n",
       "      <td>Man</td>\n",
       "    </tr>\n",
       "  </tbody>\n",
       "</table>\n",
       "</div>"
      ],
      "text/plain": [
       "               name date_of_birth date_of_death  \\\n",
       "0    Lev Lyubetskiy    1920-04-05    2000-06-21   \n",
       "1      Aleš Zimolka          1963    2012-05-26   \n",
       "2  Wolfgang Lohmann    1935-05-29           NaN   \n",
       "3     Marius Raichi    1909-09-13    1986-04-24   \n",
       "4     Björn Wiegers    1982-03-15           NaN   \n",
       "\n",
       "                                               alias       profession gender  \n",
       "0  [Lev Grigorevich Lyubetskiy@en, L. Lyubetsky@e...            Actor    Man  \n",
       "1                                               None         Musician    Man  \n",
       "2                                               None             None    Man  \n",
       "3                                               None  Cinematographer    Man  \n",
       "4                                               None             None    Man  "
      ]
     },
     "execution_count": 5,
     "metadata": {},
     "output_type": "execute_result"
    }
   ],
   "source": [
    "json_dataframe.head()"
   ]
  },
  {
   "cell_type": "code",
   "execution_count": 6,
   "metadata": {},
   "outputs": [
    {
     "data": {
      "text/plain": [
       "1259847"
      ]
     },
     "execution_count": 6,
     "metadata": {},
     "output_type": "execute_result"
    }
   ],
   "source": [
    "len(json_dataframe)"
   ]
  },
  {
   "cell_type": "markdown",
   "metadata": {},
   "source": [
    "## Indexovanie"
   ]
  },
  {
   "cell_type": "code",
   "execution_count": 7,
   "metadata": {},
   "outputs": [],
   "source": [
    "es = Elasticsearch([{'host': 'localhost', 'port': 9200}], timeout=30, max_retries=10, retry_on_timeout=True)"
   ]
  },
  {
   "cell_type": "code",
   "execution_count": 8,
   "metadata": {},
   "outputs": [],
   "source": [
    "if not es.indices.exists(index=\"person\"):\n",
    "    helpers.bulk(es, data, index=\"person\")\n",
    "#es.indices.delete(index='person')"
   ]
  },
  {
   "cell_type": "markdown",
   "metadata": {},
   "source": [
    "## Profesia"
   ]
  },
  {
   "cell_type": "code",
   "execution_count": 9,
   "metadata": {},
   "outputs": [],
   "source": [
    "json_profession_dataframe = json_dataframe.explode('profession')"
   ]
  },
  {
   "cell_type": "code",
   "execution_count": 10,
   "metadata": {},
   "outputs": [],
   "source": [
    "most_profession = json_profession_dataframe['profession'].value_counts()[:4].index.tolist()\n",
    "unique_profession = json_profession_dataframe['profession'].unique()\n",
    "\n",
    "sum_profession = []\n",
    "sum_profession.append(json_dataframe.profession.str.count(most_profession[0]).sum())\n",
    "sum_profession.append(json_dataframe.profession.str.count(most_profession[1]).sum())\n",
    "sum_profession.append(json_dataframe.profession.str.count(most_profession[2]).sum())\n",
    "sum_profession.append(json_dataframe.profession.str.count(most_profession[3]).sum())\n",
    "\n",
    "sum_profession.sort(reverse=True)"
   ]
  },
  {
   "cell_type": "code",
   "execution_count": 11,
   "metadata": {},
   "outputs": [
    {
     "name": "stdout",
     "output_type": "stream",
     "text": [
      "Pocet unikátnych profesií:  686\n",
      "1. najčastejšia profesia -  None 54.99 %\n",
      "2. najčastejšia profesia -  Actor 7.45 %\n",
      "3. najčastejšia profesia -  Writer 2.54 %\n",
      "4. najčastejšia profesia -  Politician 1.15 %\n"
     ]
    }
   ],
   "source": [
    "print(\"Pocet unikátnych profesií: \", len(unique_profession))\n",
    "\n",
    "print(\"1. najčastejšia profesia - \", most_profession[0], round(100 * sum_profession[0]/len(json_dataframe), 2),\"%\")\n",
    "print(\"2. najčastejšia profesia - \", most_profession[1], round(100 * sum_profession[1]/len(json_dataframe), 2),\"%\")\n",
    "print(\"3. najčastejšia profesia - \", most_profession[2], round(100 * sum_profession[2]/len(json_dataframe), 2),\"%\")\n",
    "print(\"4. najčastejšia profesia - \", most_profession[3], round(100 * sum_profession[3]/len(json_dataframe), 2),\"%\")"
   ]
  },
  {
   "cell_type": "markdown",
   "metadata": {},
   "source": [
    "## Pohlavie"
   ]
  },
  {
   "cell_type": "code",
   "execution_count": 12,
   "metadata": {},
   "outputs": [],
   "source": [
    "most_gender_labels = json_dataframe['gender'].unique()\n",
    "most_gender_number = json_dataframe['gender'].value_counts()"
   ]
  },
  {
   "cell_type": "code",
   "execution_count": 13,
   "metadata": {},
   "outputs": [
    {
     "data": {
      "image/png": "[encoded data removed]",
      "text/plain": [
       "<Figure size 720x504 with 1 Axes>"
      ]
     },
     "metadata": {},
     "output_type": "display_data"
    }
   ],
   "source": [
    "labels = most_gender_labels\n",
    "number = [most_gender_number]\n",
    "fig = plt.figure(figsize =(10, 7)) \n",
    "plt.pie(np.array(number).ravel(), labels = labels, autopct='%1.2f%%', pctdistance=1.1, labeldistance=1.2) \n",
    "\n",
    "plt.show() "
   ]
  },
  {
   "cell_type": "markdown",
   "metadata": {},
   "source": [
    "## Dátum"
   ]
  },
  {
   "cell_type": "code",
   "execution_count": 14,
   "metadata": {},
   "outputs": [],
   "source": [
    "date_21 = es.search(index='person', scroll=\"5m\", body=\n",
    "    { \n",
    "        \"query\": {\n",
    "             \"range\": {\n",
    "                 \"date_of_birth\": {\n",
    "                     \"gte\": \"2001-01-01\"\n",
    "                 }\n",
    "             }\n",
    "        }\n",
    "    })\n",
    "date_20 = es.search(index='person', scroll=\"5m\", body=\n",
    "    { \n",
    "        \"query\": {\n",
    "             \"range\": {\n",
    "                 \"date_of_birth\": {\n",
    "                     \"gte\": \"1901-01-01\",\"lte\": \"2000-12-31\"\n",
    "                 }\n",
    "             }\n",
    "        }\n",
    "    })\n",
    "date_19 = es.search(index='person', scroll=\"5m\", body=\n",
    "    { \n",
    "        \"query\": {\n",
    "             \"range\": {\n",
    "                 \"date_of_birth\": {\n",
    "                     \"gte\": \"1801-01-01\",\"lte\": \"1900-12-31\"\n",
    "                 }\n",
    "             }\n",
    "        }\n",
    "    })\n",
    "date_18 = es.search(index='person', scroll=\"5m\", body=\n",
    "    { \n",
    "        \"query\": {\n",
    "             \"range\": {\n",
    "                 \"date_of_birth\": {\n",
    "                     \"gte\": \"1701-01-01\",\"lte\": \"1800-12-31\"\n",
    "                 }\n",
    "             }\n",
    "        }\n",
    "    })\n",
    "date_17 = es.search(index='person', scroll=\"5m\", body=\n",
    "    { \n",
    "        \"query\": {\n",
    "             \"range\": {\n",
    "                 \"date_of_birth\": {\n",
    "                     \"lt\": \"1701-01-01\"\n",
    "                 }\n",
    "             }\n",
    "        }\n",
    "    })\n",
    "date_none = json_dataframe[json_dataframe['date_of_birth'].isnull()]"
   ]
  },
  {
   "cell_type": "code",
   "execution_count": 15,
   "metadata": {
    "scrolled": true
   },
   "outputs": [
    {
     "name": "stdout",
     "output_type": "stream",
     "text": [
      "Pocet ľudí narodených v jednotlivom storočí:\n",
      "21.storočie  -  10871\n",
      "20.storočie  -  939671\n",
      "19.storočie  -  220768\n",
      "18.storočie  -  43507\n",
      "pred 18.storočím  -  45028\n",
      "None  -  2\n",
      "\n",
      "None, nemali uvedený dátum\n",
      "\n"
     ]
    },
    {
     "data": {
      "image/png": "[encoded data removed]",
      "text/plain": [
       "<Figure size 432x288 with 1 Axes>"
      ]
     },
     "metadata": {
      "needs_background": "light"
     },
     "output_type": "display_data"
    }
   ],
   "source": [
    "labels = ['21.storočie', '20.storočie', '19.storočie', '18.storočie', 'pred 18.storočím', 'None']\n",
    "number = [date_21['hits']['total']['value'], date_20['hits']['total']['value'], date_19['hits']['total']['value'], date_18['hits']['total']['value'], date_17['hits']['total']['value'], len(date_none)]\n",
    "\n",
    "print(\"Pocet ľudí narodených v jednotlivom storočí:\")\n",
    "for i in range(len(labels)):\n",
    "    print(labels[i], \" - \", number[i])\n",
    "\n",
    "print()\n",
    "print(\"None, nemali uvedený dátum\")\n",
    "print()\n",
    "\n",
    "plt.barh(np.arange(len(labels)), number[::-1])\n",
    "plt.yticks(np.arange(len(labels)), labels[::-1])\n",
    "plt.show()\n",
    "\n"
   ]
  },
  {
   "cell_type": "markdown",
   "metadata": {},
   "source": [
    "## Aliasy"
   ]
  },
  {
   "cell_type": "code",
   "execution_count": 16,
   "metadata": {},
   "outputs": [
    {
     "name": "stdout",
     "output_type": "stream",
     "text": [
      "Percento bez aliasov - 70.69 %\n"
     ]
    }
   ],
   "source": [
    "print(\"Percento bez aliasov -\", round(100*json_dataframe.alias.str.count(\"None\").sum()/len(json_dataframe),2),\"%\")"
   ]
  },
  {
   "cell_type": "markdown",
   "metadata": {},
   "source": [
    "## Vyhľadávanie podľa mena"
   ]
  },
  {
   "cell_type": "code",
   "execution_count": 17,
   "metadata": {},
   "outputs": [
    {
     "data": {
      "application/vnd.jupyter.widget-view+json": {
       "model_id": "ec0fb86b035e4646be1a73598833e7a0",
       "version_major": 2,
       "version_minor": 0
      },
      "text/plain": [
       "interactive(children=(Text(value='', description='Meno'), Output()), _dom_classes=('widget-interact',))"
      ]
     },
     "metadata": {},
     "output_type": "display_data"
    }
   ],
   "source": [
    "@interact(Meno=\"\")\n",
    "def searchName(Meno):\n",
    "    found_name = helpers.scan(es,  query={\"query\": {\"match\": {\n",
    "      \"name\": {\n",
    "        \"query\": Meno,\n",
    "        \"operator\": \"AND\"\n",
    "      }}}}, index=\"person\")\n",
    "    return list(map(lambda x: x['_source']['name'], list(found_name)))"
   ]
  },
  {
   "cell_type": "code",
   "execution_count": null,
   "metadata": {},
   "outputs": [],
   "source": []
  }
 ],
 "metadata": {
  "kernelspec": {
   "display_name": "Python 3",
   "language": "python",
   "name": "python3"
  },
  "language_info": {
   "codemirror_mode": {
    "name": "ipython",
    "version": 3
   },
   "file_extension": ".py",
   "mimetype": "text/x-python",
   "name": "python",
   "nbconvert_exporter": "python",
   "pygments_lexer": "ipython3",
   "version": "3.7.3"
  }
 },
 "nbformat": 4,
 "nbformat_minor": 2
}
