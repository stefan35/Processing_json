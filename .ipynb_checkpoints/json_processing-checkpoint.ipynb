{
 "cells": [
  {
   "cell_type": "code",
   "execution_count": 1,
   "metadata": {},
   "outputs": [],
   "source": [
    "from elasticsearch import Elasticsearch\n",
    "from elasticsearch import helpers\n",
    "from elasticsearch.helpers import scan\n",
    "import pandas as pd\n",
    "import numpy as np\n",
    "import requests, json\n",
    "import matplotlib.pyplot as plt "
   ]
  },
  {
   "cell_type": "markdown",
   "metadata": {},
   "source": [
    "## Nacitanie json"
   ]
  },
  {
   "cell_type": "code",
   "execution_count": 2,
   "metadata": {},
   "outputs": [],
   "source": [
    "data = []\n",
    "with open('person.json', encoding='utf-8') as file:\n",
    "    for line in file:\n",
    "        if \"-00\" not in line:\n",
    "            data.append(json.loads(line[:-2]))"
   ]
  },
  {
   "cell_type": "code",
   "execution_count": 3,
   "metadata": {},
   "outputs": [],
   "source": [
    "json_dataframe = pd.DataFrame(data)"
   ]
  },
  {
   "cell_type": "code",
   "execution_count": 4,
   "metadata": {},
   "outputs": [],
   "source": [
    "json_dataframe['name'] = json_dataframe['name'].str.replace('@en', '')\n",
    "json_dataframe.drop(json_dataframe.columns[[6]], axis=1, inplace=True)"
   ]
  },
  {
   "cell_type": "code",
   "execution_count": 5,
   "metadata": {},
   "outputs": [
    {
     "data": {
      "text/plain": [
       "1259847"
      ]
     },
     "execution_count": 5,
     "metadata": {},
     "output_type": "execute_result"
    }
   ],
   "source": [
    "len(json_dataframe)"
   ]
  },
  {
   "cell_type": "markdown",
   "metadata": {},
   "source": [
    "## Indexovanie"
   ]
  },
  {
   "cell_type": "code",
   "execution_count": 6,
   "metadata": {},
   "outputs": [],
   "source": [
    "es = Elasticsearch([{'host': 'localhost', 'port': 9200}], timeout=30, max_retries=10, retry_on_timeout=True)"
   ]
  },
  {
   "cell_type": "code",
   "execution_count": 7,
   "metadata": {},
   "outputs": [
    {
     "data": {
      "text/plain": [
       "(1259847, [])"
      ]
     },
     "execution_count": 7,
     "metadata": {},
     "output_type": "execute_result"
    }
   ],
   "source": [
    "helpers.bulk(es, data, index='person')\n",
    "#es.indices.delete(index='person')"
   ]
  },
  {
   "cell_type": "markdown",
   "metadata": {},
   "source": [
    "## Profesia"
   ]
  },
  {
   "cell_type": "code",
   "execution_count": 8,
   "metadata": {},
   "outputs": [],
   "source": [
    "json_profession_dataframe = json_dataframe.explode('profession')"
   ]
  },
  {
   "cell_type": "code",
   "execution_count": 9,
   "metadata": {},
   "outputs": [],
   "source": [
    "most_profession = json_profession_dataframe['profession'].value_counts()[:4].index.tolist()\n",
    "unique_profession = json_profession_dataframe['profession'].unique()\n",
    "\n",
    "sum_profession = []\n",
    "sum_profession.append(json_dataframe.profession.str.count(most_profession[0]).sum())\n",
    "sum_profession.append(json_dataframe.profession.str.count(most_profession[1]).sum())\n",
    "sum_profession.append(json_dataframe.profession.str.count(most_profession[2]).sum())\n",
    "sum_profession.append(json_dataframe.profession.str.count(most_profession[3]).sum())\n",
    "\n",
    "sum_profession.sort(reverse=True)"
   ]
  },
  {
   "cell_type": "code",
   "execution_count": 10,
   "metadata": {},
   "outputs": [
    {
     "name": "stdout",
     "output_type": "stream",
     "text": [
      "Pocet unikatnych profesii:  686\n",
      "1. najcastejsia profesia -  None 54.99 %\n",
      "2. najcastejsia profesia -  Actor 7.45 %\n",
      "3. najcastejsia profesia -  Writer 2.54 %\n",
      "4. najcastejsia profesia -  Politician 1.15 %\n"
     ]
    }
   ],
   "source": [
    "print(\"Pocet unikatnych profesii: \", len(unique_profession))\n",
    "\n",
    "print(\"1. najcastejsia profesia - \", most_profession[0], round(100 * sum_profession[0]/len(json_dataframe), 2),\"%\")\n",
    "print(\"2. najcastejsia profesia - \", most_profession[1], round(100 * sum_profession[1]/len(json_dataframe), 2),\"%\")\n",
    "print(\"3. najcastejsia profesia - \", most_profession[2], round(100 * sum_profession[2]/len(json_dataframe), 2),\"%\")\n",
    "print(\"4. najcastejsia profesia - \", most_profession[3], round(100 * sum_profession[3]/len(json_dataframe), 2),\"%\")"
   ]
  },
  {
   "cell_type": "markdown",
   "metadata": {},
   "source": [
    "## Pohlavie"
   ]
  },
  {
   "cell_type": "code",
   "execution_count": 11,
   "metadata": {},
   "outputs": [],
   "source": [
    "most_gender_labels = json_dataframe['gender'].unique()\n",
    "most_gender_number = json_dataframe['gender'].value_counts()"
   ]
  },
  {
   "cell_type": "code",
   "execution_count": 12,
   "metadata": {},
   "outputs": [
    {
     "data": {
      "image/png": "[encoded data removed]",
      "text/plain": [
       "<Figure size 720x504 with 1 Axes>"
      ]
     },
     "metadata": {},
     "output_type": "display_data"
    }
   ],
   "source": [
    "labels = most_gender_labels\n",
    "number = [most_gender_number]\n",
    "fig = plt.figure(figsize =(10, 7)) \n",
    "plt.pie(np.array(number).ravel(), labels = labels, autopct='%1.2f%%', pctdistance=1.1, labeldistance=1.2) \n",
    "\n",
    "plt.show() "
   ]
  },
  {
   "cell_type": "markdown",
   "metadata": {},
   "source": [
    "## Datum"
   ]
  },
  {
   "cell_type": "code",
   "execution_count": 13,
   "metadata": {},
   "outputs": [],
   "source": [
    "date_21 = es.search(index='person', scroll=\"5m\", body=\n",
    "    { \n",
    "        \"query\": {\n",
    "             \"range\": {\n",
    "                 \"date_of_birth\": {\n",
    "                     \"gte\": \"2001-01-01\"\n",
    "                 }\n",
    "             }\n",
    "        }\n",
    "    })\n",
    "date_20 = es.search(index='person', scroll=\"5m\", body=\n",
    "    { \n",
    "        \"query\": {\n",
    "             \"range\": {\n",
    "                 \"date_of_birth\": {\n",
    "                     \"gte\": \"1901-01-01\",\"lte\": \"2000-12-31\"\n",
    "                 }\n",
    "             }\n",
    "        }\n",
    "    })\n",
    "date_19 = es.search(index='person', scroll=\"5m\", body=\n",
    "    { \n",
    "        \"query\": {\n",
    "             \"range\": {\n",
    "                 \"date_of_birth\": {\n",
    "                     \"gte\": \"1801-01-01\",\"lte\": \"1900-12-31\"\n",
    "                 }\n",
    "             }\n",
    "        }\n",
    "    })\n",
    "date_18 = es.search(index='person', scroll=\"5m\", body=\n",
    "    { \n",
    "        \"query\": {\n",
    "             \"range\": {\n",
    "                 \"date_of_birth\": {\n",
    "                     \"gte\": \"1701-01-01\",\"lte\": \"1800-12-31\"\n",
    "                 }\n",
    "             }\n",
    "        }\n",
    "    })\n",
    "date_17 = es.search(index='person', scroll=\"5m\", body=\n",
    "    { \n",
    "        \"query\": {\n",
    "             \"range\": {\n",
    "                 \"date_of_birth\": {\n",
    "                     \"lt\": \"1701-01-01\"\n",
    "                 }\n",
    "             }\n",
    "        }\n",
    "    })\n",
    "date_none = json_dataframe[json_dataframe['date_of_birth'].isnull()]"
   ]
  },
  {
   "cell_type": "code",
   "execution_count": 14,
   "metadata": {},
   "outputs": [
    {
     "name": "stdout",
     "output_type": "stream",
     "text": [
      "Pocet ludi narodenzch v jednotlivom storoci:\n",
      "21.storocie  -  10871\n",
      "20.storocie  -  939671\n",
      "19.storocie  -  220768\n",
      "18.storocie  -  43507\n",
      "menej ako 18.storocie  -  45028\n",
      "None  -  2\n",
      "\n",
      "None, nemali uvedeny datum\n",
      "\n"
     ]
    },
    {
     "data": {
      "image/png": "[encoded data removed]",
      "text/plain": [
       "<Figure size 432x288 with 1 Axes>"
      ]
     },
     "metadata": {
      "needs_background": "light"
     },
     "output_type": "display_data"
    }
   ],
   "source": [
    "labels = ['21.storocie', '20.storocie', '19.storocie', '18.storocie', 'menej ako 18.storocie', 'None']\n",
    "number = [date_21['hits']['total']['value'], date_20['hits']['total']['value'], date_19['hits']['total']['value'], date_18['hits']['total']['value'], date_17['hits']['total']['value'], len(date_none)]\n",
    "\n",
    "print(\"Pocet ludi narodenzch v jednotlivom storoci:\")\n",
    "for i in range(len(labels)):\n",
    "    print(labels[i], \" - \", number[i])\n",
    "\n",
    "print()\n",
    "print(\"None, nemali uvedeny datum\")\n",
    "print()\n",
    "\n",
    "plt.barh(np.arange(len(labels)), number[::-1])\n",
    "plt.yticks(np.arange(len(labels)), labels[::-1])\n",
    "plt.show()\n",
    "\n"
   ]
  },
  {
   "cell_type": "markdown",
   "metadata": {},
   "source": [
    "## Aliasy"
   ]
  },
  {
   "cell_type": "code",
   "execution_count": 15,
   "metadata": {},
   "outputs": [],
   "source": [
    "#json_alias_dataframe = json_dataframe.explode('alias')\n",
    "#most_alias = json_alias_dataframe['name'].value_counts()[:4].index.tolist()\n",
    "#most_aliases = json_dataframe[json_dataframe['name'].str.contains(most_alias[0], na=False)]\n",
    "#most_aliases['alias'].iloc[0]"
   ]
  },
  {
   "cell_type": "code",
   "execution_count": 16,
   "metadata": {},
   "outputs": [
    {
     "name": "stdout",
     "output_type": "stream",
     "text": [
      "Percento bez aliasov - 70.69 %\n"
     ]
    }
   ],
   "source": [
    "print(\"Percento bez aliasov -\", round(100*json_dataframe.alias.str.count(\"None\").sum()/len(json_dataframe),2),\"%\")"
   ]
  },
  {
   "cell_type": "markdown",
   "metadata": {},
   "source": [
    "## Vyhladavanie podla mena"
   ]
  },
  {
   "cell_type": "code",
   "execution_count": 19,
   "metadata": {},
   "outputs": [],
   "source": [
    "#found_name = es.search(index='person', scroll=\"5m\", body={ \"query\": {\"match\": {\"name\": \"Peter\"}}})\n",
    "found_name = helpers.scan(es,  query={\"query\": {\"match\": {\n",
    "    'name':'Peter'\n",
    "    }}}, index=\"person\")"
   ]
  },
  {
   "cell_type": "code",
   "execution_count": 21,
   "metadata": {},
   "outputs": [],
   "source": [
    "#for i in found_name:\n",
    "#    print(i['_source']['name'])\n",
    "#    print(\"alias: \", i['_source']['alias'])\n",
    "#    print()"
   ]
  },
  {
   "cell_type": "code",
   "execution_count": null,
   "metadata": {},
   "outputs": [],
   "source": []
  }
 ],
 "metadata": {
  "kernelspec": {
   "display_name": "Python 3",
   "language": "python",
   "name": "python3"
  },
  "language_info": {
   "codemirror_mode": {
    "name": "ipython",
    "version": 3
   },
   "file_extension": ".py",
   "mimetype": "text/x-python",
   "name": "python",
   "nbconvert_exporter": "python",
   "pygments_lexer": "ipython3",
   "version": "3.7.3"
  }
 },
 "nbformat": 4,
 "nbformat_minor": 2
}
